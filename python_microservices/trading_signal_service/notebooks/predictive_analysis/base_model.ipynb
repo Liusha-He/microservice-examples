{
 "cells": [
  {
   "cell_type": "code",
   "execution_count": 1,
   "id": "d7d304e4",
   "metadata": {},
   "outputs": [],
   "source": [
    "import numpy as np\n",
    "import pandas as pd\n",
    "from sklearn.model_selection import train_test_split\n",
    "from sklearn.pipeline import Pipeline\n",
    "from sklearn.feature_extraction.text import TfidfVectorizer\n",
    "from sklearn.svm import LinearSVC\n",
    "from sklearn.calibration import CalibratedClassifierCV\n",
    "from sklearn.metrics import f1_score"
   ]
  },
  {
   "cell_type": "markdown",
   "id": "f604965b",
   "metadata": {},
   "source": [
    "# Load Data"
   ]
  },
  {
   "cell_type": "code",
   "execution_count": 3,
   "id": "1837979e",
   "metadata": {},
   "outputs": [
    {
     "data": {
      "text/html": [
       "<div>\n",
       "<style scoped>\n",
       "    .dataframe tbody tr th:only-of-type {\n",
       "        vertical-align: middle;\n",
       "    }\n",
       "\n",
       "    .dataframe tbody tr th {\n",
       "        vertical-align: top;\n",
       "    }\n",
       "\n",
       "    .dataframe thead th {\n",
       "        text-align: right;\n",
       "    }\n",
       "</style>\n",
       "<table border=\"1\" class=\"dataframe\">\n",
       "  <thead>\n",
       "    <tr style=\"text-align: right;\">\n",
       "      <th></th>\n",
       "      <th>term</th>\n",
       "      <th>tag</th>\n",
       "    </tr>\n",
       "  </thead>\n",
       "  <tbody>\n",
       "    <tr>\n",
       "      <th>0</th>\n",
       "      <td>fire detection shop</td>\n",
       "      <td>19</td>\n",
       "    </tr>\n",
       "    <tr>\n",
       "      <th>1</th>\n",
       "      <td>cheap couch roll</td>\n",
       "      <td>398</td>\n",
       "    </tr>\n",
       "    <tr>\n",
       "      <th>2</th>\n",
       "      <td>extra watermelon gum</td>\n",
       "      <td>1108</td>\n",
       "    </tr>\n",
       "    <tr>\n",
       "      <th>3</th>\n",
       "      <td>used generators for sale uk</td>\n",
       "      <td>213</td>\n",
       "    </tr>\n",
       "    <tr>\n",
       "      <th>4</th>\n",
       "      <td>rose gold pearl necklace</td>\n",
       "      <td>821</td>\n",
       "    </tr>\n",
       "  </tbody>\n",
       "</table>\n",
       "</div>"
      ],
      "text/plain": [
       "                          term   tag\n",
       "0          fire detection shop    19\n",
       "1             cheap couch roll   398\n",
       "2         extra watermelon gum  1108\n",
       "3  used generators for sale uk   213\n",
       "4     rose gold pearl necklace   821"
      ]
     },
     "execution_count": 3,
     "metadata": {},
     "output_type": "execute_result"
    }
   ],
   "source": [
    "df = pd.read_csv(\"../data/kaggle/search_terms/trainSet.csv\", header=0, names=[\"term\", \"tag\"])\n",
    "\n",
    "df.head()"
   ]
  },
  {
   "cell_type": "code",
   "execution_count": 4,
   "id": "971ee9d0",
   "metadata": {},
   "outputs": [
    {
     "name": "stdout",
     "output_type": "stream",
     "text": [
      "[   0    1    2 ... 1416 1417 1418]\n"
     ]
    }
   ],
   "source": [
    "tags = df[\"tag\"].unique()\n",
    "\n",
    "tags.sort()\n",
    "print(tags)"
   ]
  },
  {
   "cell_type": "code",
   "execution_count": 5,
   "id": "833e7697",
   "metadata": {},
   "outputs": [
    {
     "data": {
      "text/html": [
       "<div>\n",
       "<style scoped>\n",
       "    .dataframe tbody tr th:only-of-type {\n",
       "        vertical-align: middle;\n",
       "    }\n",
       "\n",
       "    .dataframe tbody tr th {\n",
       "        vertical-align: top;\n",
       "    }\n",
       "\n",
       "    .dataframe thead th {\n",
       "        text-align: right;\n",
       "    }\n",
       "</style>\n",
       "<table border=\"1\" class=\"dataframe\">\n",
       "  <thead>\n",
       "    <tr style=\"text-align: right;\">\n",
       "      <th></th>\n",
       "      <th>term</th>\n",
       "      <th>tag</th>\n",
       "    </tr>\n",
       "  </thead>\n",
       "  <tbody>\n",
       "    <tr>\n",
       "      <th>777</th>\n",
       "      <td>buy expired domains</td>\n",
       "      <td>0</td>\n",
       "    </tr>\n",
       "    <tr>\n",
       "      <th>1562</th>\n",
       "      <td>godaddy promo code</td>\n",
       "      <td>0</td>\n",
       "    </tr>\n",
       "    <tr>\n",
       "      <th>2245</th>\n",
       "      <td>art domain</td>\n",
       "      <td>0</td>\n",
       "    </tr>\n",
       "    <tr>\n",
       "      <th>4535</th>\n",
       "      <td>value my domain</td>\n",
       "      <td>0</td>\n",
       "    </tr>\n",
       "    <tr>\n",
       "      <th>5184</th>\n",
       "      <td>how to buy domain name</td>\n",
       "      <td>0</td>\n",
       "    </tr>\n",
       "    <tr>\n",
       "      <th>...</th>\n",
       "      <td>...</td>\n",
       "      <td>...</td>\n",
       "    </tr>\n",
       "    <tr>\n",
       "      <th>594991</th>\n",
       "      <td>register uk domain</td>\n",
       "      <td>0</td>\n",
       "    </tr>\n",
       "    <tr>\n",
       "      <th>596408</th>\n",
       "      <td>domain suggestion</td>\n",
       "      <td>0</td>\n",
       "    </tr>\n",
       "    <tr>\n",
       "      <th>599311</th>\n",
       "      <td>purchase domain</td>\n",
       "      <td>0</td>\n",
       "    </tr>\n",
       "    <tr>\n",
       "      <th>601756</th>\n",
       "      <td>1st domains</td>\n",
       "      <td>0</td>\n",
       "    </tr>\n",
       "    <tr>\n",
       "      <th>604150</th>\n",
       "      <td>ms domain</td>\n",
       "      <td>0</td>\n",
       "    </tr>\n",
       "  </tbody>\n",
       "</table>\n",
       "<p>453 rows × 2 columns</p>\n",
       "</div>"
      ],
      "text/plain": [
       "                          term  tag\n",
       "777        buy expired domains    0\n",
       "1562        godaddy promo code    0\n",
       "2245                art domain    0\n",
       "4535           value my domain    0\n",
       "5184    how to buy domain name    0\n",
       "...                        ...  ...\n",
       "594991      register uk domain    0\n",
       "596408       domain suggestion    0\n",
       "599311         purchase domain    0\n",
       "601756             1st domains    0\n",
       "604150               ms domain    0\n",
       "\n",
       "[453 rows x 2 columns]"
      ]
     },
     "execution_count": 5,
     "metadata": {},
     "output_type": "execute_result"
    }
   ],
   "source": [
    "df0 = df[df[\"tag\"] == 0]\n",
    "\n",
    "df0"
   ]
  },
  {
   "cell_type": "code",
   "execution_count": 6,
   "id": "ad18027f",
   "metadata": {},
   "outputs": [
    {
     "data": {
      "text/html": [
       "<div>\n",
       "<style scoped>\n",
       "    .dataframe tbody tr th:only-of-type {\n",
       "        vertical-align: middle;\n",
       "    }\n",
       "\n",
       "    .dataframe tbody tr th {\n",
       "        vertical-align: top;\n",
       "    }\n",
       "\n",
       "    .dataframe thead th {\n",
       "        text-align: right;\n",
       "    }\n",
       "</style>\n",
       "<table border=\"1\" class=\"dataframe\">\n",
       "  <thead>\n",
       "    <tr style=\"text-align: right;\">\n",
       "      <th></th>\n",
       "      <th>term</th>\n",
       "      <th>tag</th>\n",
       "    </tr>\n",
       "  </thead>\n",
       "  <tbody>\n",
       "    <tr>\n",
       "      <th>426700</th>\n",
       "      <td>personalised car mats</td>\n",
       "      <td>-1</td>\n",
       "    </tr>\n",
       "    <tr>\n",
       "      <th>193749</th>\n",
       "      <td>dragon sailing boat for sale</td>\n",
       "      <td>-1</td>\n",
       "    </tr>\n",
       "    <tr>\n",
       "      <th>31895</th>\n",
       "      <td>nutrition coach online</td>\n",
       "      <td>-1</td>\n",
       "    </tr>\n",
       "    <tr>\n",
       "      <th>605330</th>\n",
       "      <td>graphic novel publishers uk</td>\n",
       "      <td>-1</td>\n",
       "    </tr>\n",
       "    <tr>\n",
       "      <th>269658</th>\n",
       "      <td>free file recovery</td>\n",
       "      <td>-1</td>\n",
       "    </tr>\n",
       "    <tr>\n",
       "      <th>...</th>\n",
       "      <td>...</td>\n",
       "      <td>...</td>\n",
       "    </tr>\n",
       "    <tr>\n",
       "      <th>402702</th>\n",
       "      <td>montgenevre ski</td>\n",
       "      <td>-1</td>\n",
       "    </tr>\n",
       "    <tr>\n",
       "      <th>320364</th>\n",
       "      <td>jojoba oil uk</td>\n",
       "      <td>-1</td>\n",
       "    </tr>\n",
       "    <tr>\n",
       "      <th>470500</th>\n",
       "      <td>single duvet cover size</td>\n",
       "      <td>-1</td>\n",
       "    </tr>\n",
       "    <tr>\n",
       "      <th>418948</th>\n",
       "      <td>survival food list</td>\n",
       "      <td>-1</td>\n",
       "    </tr>\n",
       "    <tr>\n",
       "      <th>121579</th>\n",
       "      <td>macular degeneration</td>\n",
       "      <td>-1</td>\n",
       "    </tr>\n",
       "  </tbody>\n",
       "</table>\n",
       "<p>453 rows × 2 columns</p>\n",
       "</div>"
      ],
      "text/plain": [
       "                                term  tag\n",
       "426700         personalised car mats   -1\n",
       "193749  dragon sailing boat for sale   -1\n",
       "31895         nutrition coach online   -1\n",
       "605330   graphic novel publishers uk   -1\n",
       "269658            free file recovery   -1\n",
       "...                              ...  ...\n",
       "402702               montgenevre ski   -1\n",
       "320364                 jojoba oil uk   -1\n",
       "470500       single duvet cover size   -1\n",
       "418948            survival food list   -1\n",
       "121579          macular degeneration   -1\n",
       "\n",
       "[453 rows x 2 columns]"
      ]
     },
     "execution_count": 6,
     "metadata": {},
     "output_type": "execute_result"
    }
   ],
   "source": [
    "df_0 = df[df[\"tag\"] != 0].sample(n=len(df0), random_state=42)\n",
    "\n",
    "df_0[\"tag\"] = -1\n",
    "df_0"
   ]
  },
  {
   "cell_type": "code",
   "execution_count": 7,
   "id": "4a1f4d31",
   "metadata": {},
   "outputs": [
    {
     "data": {
      "text/html": [
       "<div>\n",
       "<style scoped>\n",
       "    .dataframe tbody tr th:only-of-type {\n",
       "        vertical-align: middle;\n",
       "    }\n",
       "\n",
       "    .dataframe tbody tr th {\n",
       "        vertical-align: top;\n",
       "    }\n",
       "\n",
       "    .dataframe thead th {\n",
       "        text-align: right;\n",
       "    }\n",
       "</style>\n",
       "<table border=\"1\" class=\"dataframe\">\n",
       "  <thead>\n",
       "    <tr style=\"text-align: right;\">\n",
       "      <th></th>\n",
       "      <th>term</th>\n",
       "      <th>tag</th>\n",
       "    </tr>\n",
       "  </thead>\n",
       "  <tbody>\n",
       "    <tr>\n",
       "      <th>777</th>\n",
       "      <td>buy expired domains</td>\n",
       "      <td>0</td>\n",
       "    </tr>\n",
       "    <tr>\n",
       "      <th>1562</th>\n",
       "      <td>godaddy promo code</td>\n",
       "      <td>0</td>\n",
       "    </tr>\n",
       "    <tr>\n",
       "      <th>2245</th>\n",
       "      <td>art domain</td>\n",
       "      <td>0</td>\n",
       "    </tr>\n",
       "    <tr>\n",
       "      <th>4535</th>\n",
       "      <td>value my domain</td>\n",
       "      <td>0</td>\n",
       "    </tr>\n",
       "    <tr>\n",
       "      <th>5184</th>\n",
       "      <td>how to buy domain name</td>\n",
       "      <td>0</td>\n",
       "    </tr>\n",
       "    <tr>\n",
       "      <th>...</th>\n",
       "      <td>...</td>\n",
       "      <td>...</td>\n",
       "    </tr>\n",
       "    <tr>\n",
       "      <th>402702</th>\n",
       "      <td>montgenevre ski</td>\n",
       "      <td>-1</td>\n",
       "    </tr>\n",
       "    <tr>\n",
       "      <th>320364</th>\n",
       "      <td>jojoba oil uk</td>\n",
       "      <td>-1</td>\n",
       "    </tr>\n",
       "    <tr>\n",
       "      <th>470500</th>\n",
       "      <td>single duvet cover size</td>\n",
       "      <td>-1</td>\n",
       "    </tr>\n",
       "    <tr>\n",
       "      <th>418948</th>\n",
       "      <td>survival food list</td>\n",
       "      <td>-1</td>\n",
       "    </tr>\n",
       "    <tr>\n",
       "      <th>121579</th>\n",
       "      <td>macular degeneration</td>\n",
       "      <td>-1</td>\n",
       "    </tr>\n",
       "  </tbody>\n",
       "</table>\n",
       "<p>906 rows × 2 columns</p>\n",
       "</div>"
      ],
      "text/plain": [
       "                           term  tag\n",
       "777         buy expired domains    0\n",
       "1562         godaddy promo code    0\n",
       "2245                 art domain    0\n",
       "4535            value my domain    0\n",
       "5184     how to buy domain name    0\n",
       "...                         ...  ...\n",
       "402702          montgenevre ski   -1\n",
       "320364            jojoba oil uk   -1\n",
       "470500  single duvet cover size   -1\n",
       "418948       survival food list   -1\n",
       "121579     macular degeneration   -1\n",
       "\n",
       "[906 rows x 2 columns]"
      ]
     },
     "execution_count": 7,
     "metadata": {},
     "output_type": "execute_result"
    }
   ],
   "source": [
    "data = pd.concat([df0, df_0])\n",
    "\n",
    "data"
   ]
  },
  {
   "cell_type": "markdown",
   "id": "943727cc",
   "metadata": {},
   "source": [
    "# Split dataset"
   ]
  },
  {
   "cell_type": "code",
   "execution_count": 8,
   "id": "987cbb5a",
   "metadata": {},
   "outputs": [],
   "source": [
    "X_train, X_test, y_train, y_test = train_test_split(data[\"term\"], \n",
    "                                                    data[\"tag\"], \n",
    "                                                    test_size=0.2, \n",
    "                                                    random_state=42)"
   ]
  },
  {
   "cell_type": "markdown",
   "id": "a268a548",
   "metadata": {},
   "source": [
    "# Model Build and Validation"
   ]
  },
  {
   "cell_type": "code",
   "execution_count": 9,
   "id": "774a6153",
   "metadata": {},
   "outputs": [],
   "source": [
    "model = Pipeline([\n",
    "    (\"tdidf\", TfidfVectorizer()),\n",
    "    (\"clf\", CalibratedClassifierCV(LinearSVC())),\n",
    "],\n",
    "verbose=1)"
   ]
  },
  {
   "cell_type": "code",
   "execution_count": 53,
   "id": "68422f99",
   "metadata": {},
   "outputs": [
    {
     "name": "stdout",
     "output_type": "stream",
     "text": [
      "[Pipeline] ............. (step 1 of 2) Processing tdidf, total=   0.0s\n",
      "[Pipeline] ............... (step 2 of 2) Processing clf, total=   0.0s\n"
     ]
    },
    {
     "data": {
      "text/plain": [
       "Pipeline(steps=[('tdidf', TfidfVectorizer()),\n",
       "                ('clf', CalibratedClassifierCV(base_estimator=LinearSVC()))],\n",
       "         verbose=1)"
      ]
     },
     "execution_count": 53,
     "metadata": {},
     "output_type": "execute_result"
    }
   ],
   "source": [
    "model.fit(X_train, y_train)"
   ]
  },
  {
   "cell_type": "code",
   "execution_count": 54,
   "id": "81d27908",
   "metadata": {},
   "outputs": [],
   "source": [
    "y_pred = model.predict(X_test)"
   ]
  },
  {
   "cell_type": "code",
   "execution_count": 55,
   "id": "581dcca4",
   "metadata": {},
   "outputs": [
    {
     "name": "stdout",
     "output_type": "stream",
     "text": [
      "0.9506227106227108\n"
     ]
    }
   ],
   "source": [
    "print(f1_score(y_test, y_pred, average='weighted'))"
   ]
  },
  {
   "cell_type": "code",
   "execution_count": 56,
   "id": "062a1b84",
   "metadata": {},
   "outputs": [
    {
     "data": {
      "text/plain": [
       "array([-1,  0,  0, -1, -1, -1, -1,  0, -1, -1, -1, -1,  0,  0,  0, -1,  0,\n",
       "        0, -1, -1,  0,  0,  0, -1, -1, -1,  0, -1, -1,  0,  0, -1,  0, -1,\n",
       "        0, -1, -1,  0,  0, -1,  0,  0,  0, -1, -1,  0,  0,  0,  0,  0, -1,\n",
       "       -1, -1, -1,  0,  0,  0,  0, -1, -1, -1,  0, -1, -1, -1,  0, -1, -1,\n",
       "       -1,  0,  0, -1, -1, -1,  0,  0, -1,  0, -1,  0,  0,  0,  0,  0,  0,\n",
       "        0,  0, -1,  0, -1,  0, -1, -1,  0,  0, -1, -1, -1,  0, -1,  0, -1,\n",
       "        0, -1,  0, -1, -1, -1, -1,  0,  0,  0, -1, -1,  0, -1, -1, -1, -1,\n",
       "        0, -1,  0,  0, -1, -1,  0,  0,  0,  0,  0,  0,  0, -1, -1, -1,  0,\n",
       "        0, -1, -1,  0, -1,  0,  0,  0, -1, -1, -1,  0, -1,  0, -1,  0,  0,\n",
       "       -1,  0, -1, -1,  0,  0,  0,  0,  0,  0,  0,  0, -1, -1, -1,  0,  0,\n",
       "       -1, -1,  0, -1, -1, -1, -1, -1, -1,  0, -1,  0])"
      ]
     },
     "execution_count": 56,
     "metadata": {},
     "output_type": "execute_result"
    }
   ],
   "source": [
    "y_pred"
   ]
  },
  {
   "cell_type": "code",
   "execution_count": 57,
   "id": "85578ef1",
   "metadata": {},
   "outputs": [
    {
     "data": {
      "text/plain": [
       "array([-1,  0,  0, -1, -1, -1, -1,  0, -1, -1, -1, -1,  0,  0,  0, -1,  0,\n",
       "        0, -1, -1,  0,  0,  0, -1, -1, -1,  0, -1, -1,  0,  0, -1,  0, -1,\n",
       "        0, -1, -1,  0,  0, -1,  0,  0,  0,  0, -1,  0,  0,  0,  0,  0, -1,\n",
       "       -1, -1, -1,  0,  0,  0,  0, -1, -1, -1,  0, -1, -1,  0,  0, -1, -1,\n",
       "       -1,  0,  0, -1, -1, -1,  0,  0, -1,  0, -1,  0,  0,  0,  0,  0,  0,\n",
       "        0,  0, -1,  0, -1,  0, -1,  0,  0,  0, -1, -1,  0,  0,  0,  0,  0,\n",
       "        0, -1,  0, -1, -1, -1, -1, -1,  0,  0,  0, -1,  0, -1, -1, -1, -1,\n",
       "        0, -1,  0,  0, -1, -1,  0,  0,  0,  0,  0,  0,  0, -1, -1, -1,  0,\n",
       "        0, -1, -1,  0, -1,  0,  0,  0, -1, -1, -1,  0, -1,  0, -1,  0,  0,\n",
       "       -1,  0, -1, -1,  0,  0,  0,  0,  0,  0,  0,  0, -1, -1, -1,  0,  0,\n",
       "       -1, -1,  0, -1,  0, -1, -1, -1, -1,  0, -1,  0])"
      ]
     },
     "execution_count": 57,
     "metadata": {},
     "output_type": "execute_result"
    }
   ],
   "source": [
    "y_test.to_numpy()"
   ]
  },
  {
   "cell_type": "code",
   "execution_count": 61,
   "id": "1b34ad5f",
   "metadata": {},
   "outputs": [
    {
     "data": {
      "text/plain": [
       "[-1, 0]"
      ]
     },
     "execution_count": 61,
     "metadata": {},
     "output_type": "execute_result"
    }
   ],
   "source": [
    "model.classes_.tolist()"
   ]
  },
  {
   "cell_type": "code",
   "execution_count": 85,
   "id": "cd1d1a94",
   "metadata": {},
   "outputs": [
    {
     "data": {
      "text/plain": [
       "0.01286976165931952"
      ]
     },
     "execution_count": 85,
     "metadata": {},
     "output_type": "execute_result"
    }
   ],
   "source": [
    "model.predict_proba([\"personalised car mats\"])[0][1]"
   ]
  },
  {
   "cell_type": "markdown",
   "id": "9ad6f66f",
   "metadata": {},
   "source": [
    "# Save model"
   ]
  },
  {
   "cell_type": "code",
   "execution_count": 48,
   "id": "a6a4a633",
   "metadata": {},
   "outputs": [],
   "source": [
    "from joblib import dump"
   ]
  },
  {
   "cell_type": "code",
   "execution_count": 49,
   "id": "757a3547",
   "metadata": {},
   "outputs": [
    {
     "data": {
      "text/plain": [
       "['../models/model_0.joblib']"
      ]
     },
     "execution_count": 49,
     "metadata": {},
     "output_type": "execute_result"
    }
   ],
   "source": [
    "dump(model, '../models/model_0.joblib') "
   ]
  },
  {
   "cell_type": "code",
   "execution_count": 62,
   "id": "10d28cbb",
   "metadata": {},
   "outputs": [
    {
     "data": {
      "text/html": [
       "<div>\n",
       "<style scoped>\n",
       "    .dataframe tbody tr th:only-of-type {\n",
       "        vertical-align: middle;\n",
       "    }\n",
       "\n",
       "    .dataframe tbody tr th {\n",
       "        vertical-align: top;\n",
       "    }\n",
       "\n",
       "    .dataframe thead th {\n",
       "        text-align: right;\n",
       "    }\n",
       "</style>\n",
       "<table border=\"1\" class=\"dataframe\">\n",
       "  <thead>\n",
       "    <tr style=\"text-align: right;\">\n",
       "      <th></th>\n",
       "      <th>term</th>\n",
       "      <th>tag</th>\n",
       "    </tr>\n",
       "  </thead>\n",
       "  <tbody>\n",
       "    <tr>\n",
       "      <th>124006</th>\n",
       "      <td>client onboarding investment banking</td>\n",
       "      <td>587</td>\n",
       "    </tr>\n",
       "    <tr>\n",
       "      <th>143200</th>\n",
       "      <td>fintech big data</td>\n",
       "      <td>587</td>\n",
       "    </tr>\n",
       "    <tr>\n",
       "      <th>333392</th>\n",
       "      <td>innovation in financial services</td>\n",
       "      <td>587</td>\n",
       "    </tr>\n",
       "    <tr>\n",
       "      <th>373541</th>\n",
       "      <td>m commerce uk</td>\n",
       "      <td>587</td>\n",
       "    </tr>\n",
       "  </tbody>\n",
       "</table>\n",
       "</div>"
      ],
      "text/plain": [
       "                                        term  tag\n",
       "124006  client onboarding investment banking  587\n",
       "143200                      fintech big data  587\n",
       "333392      innovation in financial services  587\n",
       "373541                         m commerce uk  587"
      ]
     },
     "execution_count": 62,
     "metadata": {},
     "output_type": "execute_result"
    }
   ],
   "source": [
    "temp = df[df[\"tag\"] == 587]\n",
    "\n",
    "temp"
   ]
  },
  {
   "cell_type": "code",
   "execution_count": 63,
   "id": "058f3a89",
   "metadata": {},
   "outputs": [
    {
     "data": {
      "text/html": [
       "<div>\n",
       "<style scoped>\n",
       "    .dataframe tbody tr th:only-of-type {\n",
       "        vertical-align: middle;\n",
       "    }\n",
       "\n",
       "    .dataframe tbody tr th {\n",
       "        vertical-align: top;\n",
       "    }\n",
       "\n",
       "    .dataframe thead th {\n",
       "        text-align: right;\n",
       "    }\n",
       "</style>\n",
       "<table border=\"1\" class=\"dataframe\">\n",
       "  <thead>\n",
       "    <tr style=\"text-align: right;\">\n",
       "      <th></th>\n",
       "      <th>term</th>\n",
       "      <th>tag</th>\n",
       "    </tr>\n",
       "  </thead>\n",
       "  <tbody>\n",
       "    <tr>\n",
       "      <th>0</th>\n",
       "      <td>client onboarding investment banking</td>\n",
       "      <td>587</td>\n",
       "    </tr>\n",
       "    <tr>\n",
       "      <th>1</th>\n",
       "      <td>fintech big data</td>\n",
       "      <td>587</td>\n",
       "    </tr>\n",
       "    <tr>\n",
       "      <th>2</th>\n",
       "      <td>innovation in financial services</td>\n",
       "      <td>587</td>\n",
       "    </tr>\n",
       "    <tr>\n",
       "      <th>3</th>\n",
       "      <td>m commerce uk</td>\n",
       "      <td>587</td>\n",
       "    </tr>\n",
       "    <tr>\n",
       "      <th>4</th>\n",
       "      <td>client onboarding investment banking</td>\n",
       "      <td>587</td>\n",
       "    </tr>\n",
       "    <tr>\n",
       "      <th>5</th>\n",
       "      <td>fintech big data</td>\n",
       "      <td>587</td>\n",
       "    </tr>\n",
       "    <tr>\n",
       "      <th>6</th>\n",
       "      <td>innovation in financial services</td>\n",
       "      <td>587</td>\n",
       "    </tr>\n",
       "    <tr>\n",
       "      <th>7</th>\n",
       "      <td>m commerce uk</td>\n",
       "      <td>587</td>\n",
       "    </tr>\n",
       "    <tr>\n",
       "      <th>8</th>\n",
       "      <td>client onboarding investment banking</td>\n",
       "      <td>587</td>\n",
       "    </tr>\n",
       "    <tr>\n",
       "      <th>9</th>\n",
       "      <td>fintech big data</td>\n",
       "      <td>587</td>\n",
       "    </tr>\n",
       "    <tr>\n",
       "      <th>10</th>\n",
       "      <td>innovation in financial services</td>\n",
       "      <td>587</td>\n",
       "    </tr>\n",
       "    <tr>\n",
       "      <th>11</th>\n",
       "      <td>m commerce uk</td>\n",
       "      <td>587</td>\n",
       "    </tr>\n",
       "  </tbody>\n",
       "</table>\n",
       "</div>"
      ],
      "text/plain": [
       "                                    term  tag\n",
       "0   client onboarding investment banking  587\n",
       "1                       fintech big data  587\n",
       "2       innovation in financial services  587\n",
       "3                          m commerce uk  587\n",
       "4   client onboarding investment banking  587\n",
       "5                       fintech big data  587\n",
       "6       innovation in financial services  587\n",
       "7                          m commerce uk  587\n",
       "8   client onboarding investment banking  587\n",
       "9                       fintech big data  587\n",
       "10      innovation in financial services  587\n",
       "11                         m commerce uk  587"
      ]
     },
     "execution_count": 63,
     "metadata": {},
     "output_type": "execute_result"
    }
   ],
   "source": [
    "new_df = pd.concat([temp]*5, ignore_index=True)\n",
    "\n",
    "new_df"
   ]
  },
  {
   "cell_type": "code",
   "execution_count": 64,
   "id": "df1d1b2c",
   "metadata": {},
   "outputs": [],
   "source": [
    "from joblib import load"
   ]
  },
  {
   "cell_type": "code",
   "execution_count": 72,
   "id": "1e57fdbb",
   "metadata": {},
   "outputs": [
    {
     "data": {
      "text/plain": [
       "array([-1,  1])"
      ]
     },
     "execution_count": 72,
     "metadata": {},
     "output_type": "execute_result"
    }
   ],
   "source": [
    "clf = load(\"../src/models/model_1.joblib\")\n",
    "\n",
    "clf.classes_"
   ]
  },
  {
   "cell_type": "code",
   "execution_count": 70,
   "id": "26cf0936",
   "metadata": {},
   "outputs": [
    {
     "data": {
      "text/plain": [
       "array([ -1, 100])"
      ]
     },
     "execution_count": 70,
     "metadata": {},
     "output_type": "execute_result"
    }
   ],
   "source": []
  },
  {
   "cell_type": "code",
   "execution_count": 73,
   "id": "78ef9310",
   "metadata": {},
   "outputs": [],
   "source": [
    "from glob import glob"
   ]
  },
  {
   "cell_type": "code",
   "execution_count": 77,
   "id": "619c3475",
   "metadata": {},
   "outputs": [
    {
     "data": {
      "text/plain": [
       "1419"
      ]
     },
     "execution_count": 77,
     "metadata": {},
     "output_type": "execute_result"
    }
   ],
   "source": [
    "len(glob(\"../src/models/*.joblib\"))"
   ]
  },
  {
   "cell_type": "code",
   "execution_count": 108,
   "id": "06e2165f",
   "metadata": {},
   "outputs": [],
   "source": [
    "def predict_tag(text: str, top_n: int):\n",
    "    models = glob(\"../src/models/*.joblib\")\n",
    "    probs = [0]*len(models)\n",
    "    \n",
    "    for model in models:\n",
    "        clf = load(model)\n",
    "        probs[clf.classes_[1]] = clf.predict_proba([text])[0][1]\n",
    "    \n",
    "    return sorted(range(len(probs)), key=lambda i: probs[i], reverse=True)[:top_n]"
   ]
  },
  {
   "cell_type": "code",
   "execution_count": 90,
   "id": "7212cb59",
   "metadata": {},
   "outputs": [],
   "source": [
    "probs = predict_tag(\"client onboarding investment banking\")"
   ]
  },
  {
   "cell_type": "code",
   "execution_count": 91,
   "id": "866983b0",
   "metadata": {},
   "outputs": [
    {
     "data": {
      "text/plain": [
       "0.6968584688016274"
      ]
     },
     "execution_count": 91,
     "metadata": {},
     "output_type": "execute_result"
    }
   ],
   "source": [
    "probs[587]"
   ]
  },
  {
   "cell_type": "code",
   "execution_count": 92,
   "id": "3ebcff98",
   "metadata": {},
   "outputs": [
    {
     "data": {
      "text/plain": [
       "0.9999995729566228"
      ]
     },
     "execution_count": 92,
     "metadata": {},
     "output_type": "execute_result"
    }
   ],
   "source": [
    "probs[1257]"
   ]
  },
  {
   "cell_type": "code",
   "execution_count": 94,
   "id": "26e57cf3",
   "metadata": {},
   "outputs": [
    {
     "data": {
      "text/html": [
       "<div>\n",
       "<style scoped>\n",
       "    .dataframe tbody tr th:only-of-type {\n",
       "        vertical-align: middle;\n",
       "    }\n",
       "\n",
       "    .dataframe tbody tr th {\n",
       "        vertical-align: top;\n",
       "    }\n",
       "\n",
       "    .dataframe thead th {\n",
       "        text-align: right;\n",
       "    }\n",
       "</style>\n",
       "<table border=\"1\" class=\"dataframe\">\n",
       "  <thead>\n",
       "    <tr style=\"text-align: right;\">\n",
       "      <th></th>\n",
       "      <th>term</th>\n",
       "      <th>tag</th>\n",
       "    </tr>\n",
       "  </thead>\n",
       "  <tbody>\n",
       "    <tr>\n",
       "      <th>794</th>\n",
       "      <td>aberdeen investments</td>\n",
       "      <td>1257</td>\n",
       "    </tr>\n",
       "    <tr>\n",
       "      <th>2779</th>\n",
       "      <td>uk property funds</td>\n",
       "      <td>1257</td>\n",
       "    </tr>\n",
       "    <tr>\n",
       "      <th>3333</th>\n",
       "      <td>jpm emerging markets fund</td>\n",
       "      <td>1257</td>\n",
       "    </tr>\n",
       "    <tr>\n",
       "      <th>4394</th>\n",
       "      <td>property unit trusts</td>\n",
       "      <td>1257</td>\n",
       "    </tr>\n",
       "    <tr>\n",
       "      <th>4577</th>\n",
       "      <td>artemis investments</td>\n",
       "      <td>1257</td>\n",
       "    </tr>\n",
       "    <tr>\n",
       "      <th>...</th>\n",
       "      <td>...</td>\n",
       "      <td>...</td>\n",
       "    </tr>\n",
       "    <tr>\n",
       "      <th>601784</th>\n",
       "      <td>compare funds</td>\n",
       "      <td>1257</td>\n",
       "    </tr>\n",
       "    <tr>\n",
       "      <th>604498</th>\n",
       "      <td>baillie gifford corporate bond</td>\n",
       "      <td>1257</td>\n",
       "    </tr>\n",
       "    <tr>\n",
       "      <th>604899</th>\n",
       "      <td>investment trust discounts</td>\n",
       "      <td>1257</td>\n",
       "    </tr>\n",
       "    <tr>\n",
       "      <th>606081</th>\n",
       "      <td>money market funds uk</td>\n",
       "      <td>1257</td>\n",
       "    </tr>\n",
       "    <tr>\n",
       "      <th>606215</th>\n",
       "      <td>ig investment</td>\n",
       "      <td>1257</td>\n",
       "    </tr>\n",
       "  </tbody>\n",
       "</table>\n",
       "<p>441 rows × 2 columns</p>\n",
       "</div>"
      ],
      "text/plain": [
       "                                  term   tag\n",
       "794               aberdeen investments  1257\n",
       "2779                 uk property funds  1257\n",
       "3333         jpm emerging markets fund  1257\n",
       "4394              property unit trusts  1257\n",
       "4577               artemis investments  1257\n",
       "...                                ...   ...\n",
       "601784                   compare funds  1257\n",
       "604498  baillie gifford corporate bond  1257\n",
       "604899      investment trust discounts  1257\n",
       "606081           money market funds uk  1257\n",
       "606215                   ig investment  1257\n",
       "\n",
       "[441 rows x 2 columns]"
      ]
     },
     "execution_count": 94,
     "metadata": {},
     "output_type": "execute_result"
    }
   ],
   "source": [
    "d = df[df[\"tag\"] == 1257]\n",
    "\n",
    "d"
   ]
  },
  {
   "cell_type": "code",
   "execution_count": 95,
   "id": "f9b8a4b5",
   "metadata": {},
   "outputs": [
    {
     "data": {
      "text/html": [
       "<div>\n",
       "<style scoped>\n",
       "    .dataframe tbody tr th:only-of-type {\n",
       "        vertical-align: middle;\n",
       "    }\n",
       "\n",
       "    .dataframe tbody tr th {\n",
       "        vertical-align: top;\n",
       "    }\n",
       "\n",
       "    .dataframe thead th {\n",
       "        text-align: right;\n",
       "    }\n",
       "</style>\n",
       "<table border=\"1\" class=\"dataframe\">\n",
       "  <thead>\n",
       "    <tr style=\"text-align: right;\">\n",
       "      <th></th>\n",
       "      <th>term</th>\n",
       "      <th>tag</th>\n",
       "    </tr>\n",
       "  </thead>\n",
       "  <tbody>\n",
       "    <tr>\n",
       "      <th>124006</th>\n",
       "      <td>client onboarding investment banking</td>\n",
       "      <td>587</td>\n",
       "    </tr>\n",
       "    <tr>\n",
       "      <th>143200</th>\n",
       "      <td>fintech big data</td>\n",
       "      <td>587</td>\n",
       "    </tr>\n",
       "    <tr>\n",
       "      <th>333392</th>\n",
       "      <td>innovation in financial services</td>\n",
       "      <td>587</td>\n",
       "    </tr>\n",
       "    <tr>\n",
       "      <th>373541</th>\n",
       "      <td>m commerce uk</td>\n",
       "      <td>587</td>\n",
       "    </tr>\n",
       "  </tbody>\n",
       "</table>\n",
       "</div>"
      ],
      "text/plain": [
       "                                        term  tag\n",
       "124006  client onboarding investment banking  587\n",
       "143200                      fintech big data  587\n",
       "333392      innovation in financial services  587\n",
       "373541                         m commerce uk  587"
      ]
     },
     "execution_count": 95,
     "metadata": {},
     "output_type": "execute_result"
    }
   ],
   "source": [
    "d1 = df[df[\"tag\"] == 587]\n",
    "\n",
    "d1"
   ]
  },
  {
   "cell_type": "code",
   "execution_count": 97,
   "id": "b2d4c1c4",
   "metadata": {},
   "outputs": [
    {
     "data": {
      "text/plain": [
       "108"
      ]
     },
     "execution_count": 97,
     "metadata": {},
     "output_type": "execute_result"
    }
   ],
   "source": [
    "predict_tag(\"investment trust discounts\")"
   ]
  },
  {
   "cell_type": "code",
   "execution_count": 98,
   "id": "42134e81",
   "metadata": {},
   "outputs": [
    {
     "data": {
      "text/html": [
       "<div>\n",
       "<style scoped>\n",
       "    .dataframe tbody tr th:only-of-type {\n",
       "        vertical-align: middle;\n",
       "    }\n",
       "\n",
       "    .dataframe tbody tr th {\n",
       "        vertical-align: top;\n",
       "    }\n",
       "\n",
       "    .dataframe thead th {\n",
       "        text-align: right;\n",
       "    }\n",
       "</style>\n",
       "<table border=\"1\" class=\"dataframe\">\n",
       "  <thead>\n",
       "    <tr style=\"text-align: right;\">\n",
       "      <th></th>\n",
       "      <th>term</th>\n",
       "      <th>tag</th>\n",
       "    </tr>\n",
       "  </thead>\n",
       "  <tbody>\n",
       "    <tr>\n",
       "      <th>655</th>\n",
       "      <td>montage wealth management</td>\n",
       "      <td>108</td>\n",
       "    </tr>\n",
       "    <tr>\n",
       "      <th>661</th>\n",
       "      <td>st james place wealth management charges</td>\n",
       "      <td>108</td>\n",
       "    </tr>\n",
       "    <tr>\n",
       "      <th>3683</th>\n",
       "      <td>ubs investments</td>\n",
       "      <td>108</td>\n",
       "    </tr>\n",
       "    <tr>\n",
       "      <th>3785</th>\n",
       "      <td>fintech report</td>\n",
       "      <td>108</td>\n",
       "    </tr>\n",
       "    <tr>\n",
       "      <th>3826</th>\n",
       "      <td>succession wealth management</td>\n",
       "      <td>108</td>\n",
       "    </tr>\n",
       "    <tr>\n",
       "      <th>...</th>\n",
       "      <td>...</td>\n",
       "      <td>...</td>\n",
       "    </tr>\n",
       "    <tr>\n",
       "      <th>602484</th>\n",
       "      <td>investec asset finance</td>\n",
       "      <td>108</td>\n",
       "    </tr>\n",
       "    <tr>\n",
       "      <th>602652</th>\n",
       "      <td>gresham investment management</td>\n",
       "      <td>108</td>\n",
       "    </tr>\n",
       "    <tr>\n",
       "      <th>603849</th>\n",
       "      <td>barclays trader</td>\n",
       "      <td>108</td>\n",
       "    </tr>\n",
       "    <tr>\n",
       "      <th>604317</th>\n",
       "      <td>fund administration jobs</td>\n",
       "      <td>108</td>\n",
       "    </tr>\n",
       "    <tr>\n",
       "      <th>604758</th>\n",
       "      <td>portman asset finance ltd</td>\n",
       "      <td>108</td>\n",
       "    </tr>\n",
       "  </tbody>\n",
       "</table>\n",
       "<p>523 rows × 2 columns</p>\n",
       "</div>"
      ],
      "text/plain": [
       "                                            term  tag\n",
       "655                    montage wealth management  108\n",
       "661     st james place wealth management charges  108\n",
       "3683                             ubs investments  108\n",
       "3785                              fintech report  108\n",
       "3826                succession wealth management  108\n",
       "...                                          ...  ...\n",
       "602484                    investec asset finance  108\n",
       "602652             gresham investment management  108\n",
       "603849                           barclays trader  108\n",
       "604317                  fund administration jobs  108\n",
       "604758                 portman asset finance ltd  108\n",
       "\n",
       "[523 rows x 2 columns]"
      ]
     },
     "execution_count": 98,
     "metadata": {},
     "output_type": "execute_result"
    }
   ],
   "source": [
    "df[df[\"tag\"] == 108]"
   ]
  },
  {
   "cell_type": "code",
   "execution_count": 99,
   "id": "538bb1bc",
   "metadata": {},
   "outputs": [
    {
     "data": {
      "text/plain": [
       "108"
      ]
     },
     "execution_count": 99,
     "metadata": {},
     "output_type": "execute_result"
    }
   ],
   "source": [
    "predict_tag(\"portman asset finance ltd\")"
   ]
  },
  {
   "cell_type": "code",
   "execution_count": 100,
   "id": "c1753952",
   "metadata": {},
   "outputs": [
    {
     "data": {
      "text/plain": [
       "1257"
      ]
     },
     "execution_count": 100,
     "metadata": {},
     "output_type": "execute_result"
    }
   ],
   "source": [
    "predict_tag(\"gresham investment management\")"
   ]
  },
  {
   "cell_type": "code",
   "execution_count": 102,
   "id": "432a3f1e",
   "metadata": {},
   "outputs": [],
   "source": [
    "probs = predict_tag(\"portman asset finance ltd\")"
   ]
  },
  {
   "cell_type": "code",
   "execution_count": 106,
   "id": "477e4b2d",
   "metadata": {},
   "outputs": [],
   "source": [
    "res = "
   ]
  },
  {
   "cell_type": "code",
   "execution_count": 114,
   "id": "02c91a63",
   "metadata": {},
   "outputs": [
    {
     "data": {
      "text/plain": [
       "[1202,\n",
       " 1197,\n",
       " 64,\n",
       " 798,\n",
       " 420,\n",
       " 33,\n",
       " 421,\n",
       " 158,\n",
       " 1352,\n",
       " 691,\n",
       " 1165,\n",
       " 319,\n",
       " 855,\n",
       " 874,\n",
       " 1093,\n",
       " 715,\n",
       " 776,\n",
       " 236,\n",
       " 1173,\n",
       " 840]"
      ]
     },
     "execution_count": 114,
     "metadata": {},
     "output_type": "execute_result"
    }
   ],
   "source": [
    "predict_tag(\"fintech big data\", 20)"
   ]
  },
  {
   "cell_type": "code",
   "execution_count": null,
   "id": "6e5f41eb",
   "metadata": {},
   "outputs": [],
   "source": []
  }
 ],
 "metadata": {
  "kernelspec": {
   "display_name": "Python 3",
   "language": "python",
   "name": "python3"
  },
  "language_info": {
   "codemirror_mode": {
    "name": "ipython",
    "version": 3
   },
   "file_extension": ".py",
   "mimetype": "text/x-python",
   "name": "python",
   "nbconvert_exporter": "python",
   "pygments_lexer": "ipython3",
   "version": "3.8.10"
  }
 },
 "nbformat": 4,
 "nbformat_minor": 5
}
